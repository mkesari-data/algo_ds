{
  "nbformat": 4,
  "nbformat_minor": 0,
  "metadata": {
    "colab": {
      "provenance": [],
      "authorship_tag": "ABX9TyNlKuSTis4M9EqNyUdGTQoq",
      "include_colab_link": true
    },
    "kernelspec": {
      "name": "python3",
      "display_name": "Python 3"
    },
    "language_info": {
      "name": "python"
    }
  },
  "cells": [
    {
      "cell_type": "markdown",
      "metadata": {
        "id": "view-in-github",
        "colab_type": "text"
      },
      "source": [
        "<a href=\"https://colab.research.google.com/github/mkesari-data/algo_ds/blob/main/FirstPython.ipynb\" target=\"_parent\"><img src=\"https://colab.research.google.com/assets/colab-badge.svg\" alt=\"Open In Colab\"/></a>"
      ]
    },
    {
      "cell_type": "code",
      "execution_count": 1,
      "metadata": {
        "colab": {
          "base_uri": "https://localhost:8080/"
        },
        "id": "GXGxlQa4NNiU",
        "outputId": "d3dfe75b-5cb3-4cd2-fd3c-6c46f3a2a884"
      },
      "outputs": [
        {
          "output_type": "execute_result",
          "data": {
            "text/plain": [
              "3"
            ]
          },
          "metadata": {},
          "execution_count": 1
        }
      ],
      "source": [
        "1+2"
      ]
    },
    {
      "cell_type": "code",
      "source": [
        "# prompt: can you import csv file from google drive\n",
        "\n",
        "from google.colab import drive\n",
        "drive.mount('/content/drive')\n",
        "\n",
        "import pandas as pd\n",
        "\n",
        "# Replace 'path/to/your/file.csv' with the actual path to your CSV file on Google Drive\n",
        "df = pd.read_csv('/content/drive/My Drive/your_file.csv')\n"
      ],
      "metadata": {
        "id": "JzlMXUykN2BE"
      },
      "execution_count": null,
      "outputs": []
    },
    {
      "cell_type": "markdown",
      "source": [
        "# Downloand csv file. Analyze dataset and remove all empty values."
      ],
      "metadata": {
        "id": "VULbIk3COBmv"
      }
    },
    {
      "cell_type": "code",
      "source": [],
      "metadata": {
        "id": "fNh35ffUOGm5"
      },
      "execution_count": null,
      "outputs": []
    }
  ]
}